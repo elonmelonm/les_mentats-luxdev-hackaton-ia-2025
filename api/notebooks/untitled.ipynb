{
 "cells": [
  {
   "cell_type": "code",
   "execution_count": 1,
   "id": "30994f62",
   "metadata": {},
   "outputs": [],
   "source": [
    "import geopandas as gpd\n",
    "\n",
    "aif_gdf = gpd.read_file(\"../data/couche/aif.geojson\")\n",
    "protected_areas_gdf = gpd.read_file(\"../data/couche/air_proteges.geojson\")\n",
    "dpl_gdf = gpd.read_file(\"../data/couche/dpl.geojson\")\n",
    "dpm_gdf = gpd.read_file(\"../data/couche/dpm.geojson\")\n",
    "enregistrements_gdf = gpd.read_file(\"../data/couche/enregistrement_individuel.geojson\")\n",
    "litige_gdf = gpd.read_file(\"../data/couche/litige.geojson\")\n",
    "parcelles_gdf = gpd.read_file(\"../data/couche/parcelles.geojson\")\n",
    "restriction_gdf = gpd.read_file(\"../data/couche/restriction.geojson\")\n",
    "tf_demembres_gdf = gpd.read_file(\"../data/couche/tf_demembres.geojson\")\n",
    "tf_en_cours_gdf = gpd.read_file(\"../data/couche/tf_en_cours.geojson\")\n",
    "tf_etat_gdf = gpd.read_file(\"../data/couche/tf_etat.geojson\")\n",
    "titre_reconstitue_gdf = gpd.read_file(\"../data/couche/titre_reconstitue.geojson\")\n",
    "zone_inondable_gdf = gpd.read_file(\"../data/couche/zone_inondable.geojson\")\n"
   ]
  },
  {
   "cell_type": "code",
   "execution_count": 9,
   "id": "c979becb",
   "metadata": {},
   "outputs": [
    {
     "data": {
      "text/html": [
       "<div>\n",
       "<style scoped>\n",
       "    .dataframe tbody tr th:only-of-type {\n",
       "        vertical-align: middle;\n",
       "    }\n",
       "\n",
       "    .dataframe tbody tr th {\n",
       "        vertical-align: top;\n",
       "    }\n",
       "\n",
       "    .dataframe thead th {\n",
       "        text-align: right;\n",
       "    }\n",
       "</style>\n",
       "<table border=\"1\" class=\"dataframe\">\n",
       "  <thead>\n",
       "    <tr style=\"text-align: right;\">\n",
       "      <th></th>\n",
       "      <th>id</th>\n",
       "      <th>designation</th>\n",
       "      <th>designation_alea</th>\n",
       "      <th>geometry</th>\n",
       "    </tr>\n",
       "  </thead>\n",
       "  <tbody>\n",
       "    <tr>\n",
       "      <th>0</th>\n",
       "      <td>1</td>\n",
       "      <td>Zone cynégétique de la Pendjari</td>\n",
       "      <td>Forêt Classée de Bohicon</td>\n",
       "      <td>MULTIPOLYGON Z (((296201.521 1236325.956 0, 29...</td>\n",
       "    </tr>\n",
       "    <tr>\n",
       "      <th>1</th>\n",
       "      <td>6</td>\n",
       "      <td>Forêt Classée du barrage de Natitingou</td>\n",
       "      <td>Forêt Classée de Porto-Novo</td>\n",
       "      <td>MULTIPOLYGON Z (((321354.865 1141600.304 0, 32...</td>\n",
       "    </tr>\n",
       "    <tr>\n",
       "      <th>2</th>\n",
       "      <td>7</td>\n",
       "      <td>Forêt Classée de Natitingou</td>\n",
       "      <td>Forêt Classée de Porto-Novo</td>\n",
       "      <td>MULTIPOLYGON Z (((321747.875 1137868.986 0, 32...</td>\n",
       "    </tr>\n",
       "    <tr>\n",
       "      <th>3</th>\n",
       "      <td>14</td>\n",
       "      <td>Forêt Classée de Kandi</td>\n",
       "      <td>Forêt Classée de Sèmè</td>\n",
       "      <td>MULTIPOLYGON Z (((500159.654 1228240.741 0, 50...</td>\n",
       "    </tr>\n",
       "    <tr>\n",
       "      <th>4</th>\n",
       "      <td>17</td>\n",
       "      <td>Forêt Classée de Pahou</td>\n",
       "      <td>Forêt Classée de Porto-Novo</td>\n",
       "      <td>MULTIPOLYGON Z (((403195.53 702641.526 0, 4048...</td>\n",
       "    </tr>\n",
       "  </tbody>\n",
       "</table>\n",
       "</div>"
      ],
      "text/plain": [
       "   id                             designation             designation_alea  \\\n",
       "0   1         Zone cynégétique de la Pendjari     Forêt Classée de Bohicon   \n",
       "1   6  Forêt Classée du barrage de Natitingou  Forêt Classée de Porto-Novo   \n",
       "2   7             Forêt Classée de Natitingou  Forêt Classée de Porto-Novo   \n",
       "3  14                  Forêt Classée de Kandi        Forêt Classée de Sèmè   \n",
       "4  17                  Forêt Classée de Pahou  Forêt Classée de Porto-Novo   \n",
       "\n",
       "                                            geometry  \n",
       "0  MULTIPOLYGON Z (((296201.521 1236325.956 0, 29...  \n",
       "1  MULTIPOLYGON Z (((321354.865 1141600.304 0, 32...  \n",
       "2  MULTIPOLYGON Z (((321747.875 1137868.986 0, 32...  \n",
       "3  MULTIPOLYGON Z (((500159.654 1228240.741 0, 50...  \n",
       "4  MULTIPOLYGON Z (((403195.53 702641.526 0, 4048...  "
      ]
     },
     "execution_count": 9,
     "metadata": {},
     "output_type": "execute_result"
    }
   ],
   "source": [
    "protected_areas_gdf.head()"
   ]
  },
  {
   "cell_type": "code",
   "execution_count": 10,
   "id": "2724f2af",
   "metadata": {},
   "outputs": [],
   "source": [
    "import folium\n",
    "\n",
    "center = [9.1, 2.3]\n",
    "\n",
    "m = folium.Map(location=center, zoom_start=10)\n",
    "\n",
    "# Add the shapefile as a GeoJSON layer\n",
    "folium.GeoJson(aif_gdf).add_to(m, \"aif_gdf\")\n",
    "# folium.GeoJson(protected_areas_gdf).add_to(m, \"protected_areas_gdf\")\n",
    "# folium.GeoJson(dpl_gdf).add_to(m, \"dpl_gdf\")\n",
    "# folium.GeoJson(enregistrements_gdf).add_to(m, \"enregistrements_gdf\")\n",
    "# folium.GeoJson(litige_gdf).add_to(m, \"litige_gdf\")\n",
    "# folium.GeoJson(restriction_gdf).add_to(m, \"restriction_gdf\")\n",
    "# folium.GeoJson(tf_demembres_gdf).add_to(m, \"tf_demembres_gdf\")\n",
    "# folium.GeoJson(tf_en_cours_gdf).add_to(m, \"tf_en_cours_gdf\")\n",
    "#folium.GeoJson(tf_etat_gdf).add_to(m, \"tf_etat_gdf\")\n",
    "# folium.GeoJson(titre_reconstitue_gdf).add_to(m, \"titre_reconstitue_gdf\")\n",
    "# folium.GeoJson(zone_inondable_gdf).add_to(m, \"zone_inondable_gdf\")\n",
    "\n",
    "m.save(\"map.html\")"
   ]
  },
  {
   "cell_type": "code",
   "execution_count": 5,
   "id": "86373fe5",
   "metadata": {},
   "outputs": [],
   "source": [
    "import folium\n",
    "\n",
    "center = [9.1, 2.3]\n",
    "\n",
    "m = folium.Map(location=center, zoom_start=10)\n",
    "\n",
    "# Define styles for each layer (customize colors here)\n",
    "style_aif = lambda x: {'color': 'blue', 'weight': 2, 'fillOpacity': 0.5}\n",
    "style_protected = lambda x: {'color': 'green', 'weight': 2, 'fillOpacity': 0.5}\n",
    "style_dpl = lambda x: {'color': 'red', 'weight': 2, 'fillOpacity': 0.5}\n",
    "style_dpm = lambda x: {'color': 'orange', 'weight': 2, 'fillOpacity': 0.5}\n",
    "style_litige = lambda x: {'color': 'purple', 'weight': 2, 'fillOpacity': 0.5}\n",
    "style_tf_demembres = lambda x: {'color': 'yellow', 'weight': 2, 'fillOpacity': 0.5}\n",
    "style_tf_en_cours = lambda x: {'color': 'pink', 'weight': 2, 'fillOpacity': 0.5}\n",
    "style_tf_etat = lambda x: {'color': 'cyan', 'weight': 2, 'fillOpacity': 0.5}\n",
    "style_titre_reconstitue = lambda x: {'color': 'magenta', 'weight': 2, 'fillOpacity': 0.5}\n",
    "\n",
    "# Add layers with custom styles\n",
    "folium.GeoJson(aif_gdf, style_function=style_aif).add_to(m)\n",
    "folium.GeoJson(protected_areas_gdf, style_function=style_protected).add_to(m)\n",
    "folium.GeoJson(dpl_gdf, style_function=style_dpl).add_to(m)\n",
    "folium.GeoJson(dpm_gdf, style_function=style_dpm).add_to(m)\n",
    "# folium.GeoJson(enregistrements_gdf, style_function=style_enregistrements).add_to(m)  # Uncomment and define style if needed\n",
    "folium.GeoJson(litige_gdf, style_function=style_litige).add_to(m)\n",
    "# folium.GeoJson(restriction_gdf, style_function=style_restriction).add_to(m)  # Uncomment and define style if needed\n",
    "folium.GeoJson(tf_demembres_gdf, style_function=style_tf_demembres).add_to(m)\n",
    "folium.GeoJson(tf_en_cours_gdf, style_function=style_tf_en_cours).add_to(m)\n",
    "folium.GeoJson(tf_etat_gdf, style_function=style_tf_etat).add_to(m)\n",
    "folium.GeoJson(titre_reconstitue_gdf, style_function=style_titre_reconstitue).add_to(m)\n",
    "# folium.GeoJson(zone_inondable_gdf, style_function=style_zone_inondable).add_to(m)  # Uncomment and define style if needed\n",
    "\n",
    "m.save(\"map2.html\")"
   ]
  },
  {
   "cell_type": "code",
   "execution_count": 16,
   "id": "1f6bb66f",
   "metadata": {},
   "outputs": [
    {
     "data": {
      "text/html": [
       "<div>\n",
       "<style scoped>\n",
       "    .dataframe tbody tr th:only-of-type {\n",
       "        vertical-align: middle;\n",
       "    }\n",
       "\n",
       "    .dataframe tbody tr th {\n",
       "        vertical-align: top;\n",
       "    }\n",
       "\n",
       "    .dataframe thead th {\n",
       "        text-align: right;\n",
       "    }\n",
       "</style>\n",
       "<table border=\"1\" class=\"dataframe\">\n",
       "  <thead>\n",
       "    <tr style=\"text-align: right;\">\n",
       "      <th></th>\n",
       "      <th>departement</th>\n",
       "      <th>commune</th>\n",
       "      <th>arrondissement</th>\n",
       "      <th>quartier</th>\n",
       "      <th>num_tf</th>\n",
       "      <th>id</th>\n",
       "      <th>TF_alea</th>\n",
       "      <th>geometry</th>\n",
       "    </tr>\n",
       "  </thead>\n",
       "  <tbody>\n",
       "    <tr>\n",
       "      <th>0</th>\n",
       "      <td>MONO</td>\n",
       "      <td>Grand-Popo</td>\n",
       "      <td>Grand-Popo</td>\n",
       "      <td>None</td>\n",
       "      <td>87</td>\n",
       "      <td>0</td>\n",
       "      <td>59</td>\n",
       "      <td>MULTIPOLYGON Z (((368066.73 694574.85 0, 36840...</td>\n",
       "    </tr>\n",
       "    <tr>\n",
       "      <th>1</th>\n",
       "      <td>BORGOU</td>\n",
       "      <td>NIKKI</td>\n",
       "      <td>NIKKI</td>\n",
       "      <td>GAH MARO</td>\n",
       "      <td>9</td>\n",
       "      <td>1</td>\n",
       "      <td>45</td>\n",
       "      <td>MULTIPOLYGON Z (((522252.74 1098383.35 0, 5222...</td>\n",
       "    </tr>\n",
       "    <tr>\n",
       "      <th>2</th>\n",
       "      <td>BORGOU</td>\n",
       "      <td>PARAKOU</td>\n",
       "      <td>2eme arrondissement</td>\n",
       "      <td>LADJIFARANI</td>\n",
       "      <td>837</td>\n",
       "      <td>2</td>\n",
       "      <td>44</td>\n",
       "      <td>MULTIPOLYGON Z (((460290.44 1035323 0, 460286....</td>\n",
       "    </tr>\n",
       "    <tr>\n",
       "      <th>3</th>\n",
       "      <td>\\nAtlantique</td>\n",
       "      <td>ABOMEY-CALAVI</td>\n",
       "      <td>ABOMEY-CALAVI</td>\n",
       "      <td>None</td>\n",
       "      <td>9720</td>\n",
       "      <td>3</td>\n",
       "      <td>53</td>\n",
       "      <td>MULTIPOLYGON Z (((426810.7749274606 715417.542...</td>\n",
       "    </tr>\n",
       "    <tr>\n",
       "      <th>4</th>\n",
       "      <td>OUEME</td>\n",
       "      <td>PORTO-NOVO</td>\n",
       "      <td>None</td>\n",
       "      <td>None</td>\n",
       "      <td>2559</td>\n",
       "      <td>4</td>\n",
       "      <td>13</td>\n",
       "      <td>MULTIPOLYGON Z (((456674.13 721614.58 0, 45672...</td>\n",
       "    </tr>\n",
       "  </tbody>\n",
       "</table>\n",
       "</div>"
      ],
      "text/plain": [
       "    departement        commune       arrondissement     quartier  num_tf  id  \\\n",
       "0          MONO     Grand-Popo           Grand-Popo         None      87   0   \n",
       "1        BORGOU          NIKKI                NIKKI     GAH MARO       9   1   \n",
       "2        BORGOU        PARAKOU  2eme arrondissement  LADJIFARANI     837   2   \n",
       "3  \\nAtlantique  ABOMEY-CALAVI        ABOMEY-CALAVI         None    9720   3   \n",
       "4         OUEME     PORTO-NOVO                 None         None    2559   4   \n",
       "\n",
       "   TF_alea                                           geometry  \n",
       "0       59  MULTIPOLYGON Z (((368066.73 694574.85 0, 36840...  \n",
       "1       45  MULTIPOLYGON Z (((522252.74 1098383.35 0, 5222...  \n",
       "2       44  MULTIPOLYGON Z (((460290.44 1035323 0, 460286....  \n",
       "3       53  MULTIPOLYGON Z (((426810.7749274606 715417.542...  \n",
       "4       13  MULTIPOLYGON Z (((456674.13 721614.58 0, 45672...  "
      ]
     },
     "execution_count": 16,
     "metadata": {},
     "output_type": "execute_result"
    }
   ],
   "source": [
    "aif_gdf.head()"
   ]
  },
  {
   "cell_type": "code",
   "execution_count": 19,
   "id": "70990590",
   "metadata": {},
   "outputs": [
    {
     "data": {
      "text/plain": [
       "Index(['departement', 'commune', 'arrondissement', 'quartier', 'num_tf', 'id',\n",
       "       'TF_alea', 'geometry'],\n",
       "      dtype='object')"
      ]
     },
     "execution_count": 19,
     "metadata": {},
     "output_type": "execute_result"
    }
   ],
   "source": [
    "aif_gdf.columns"
   ]
  },
  {
   "cell_type": "code",
   "execution_count": 20,
   "id": "2664d6aa",
   "metadata": {},
   "outputs": [
    {
     "data": {
      "text/plain": [
       "departement       object\n",
       "commune           object\n",
       "arrondissement    object\n",
       "quartier          object\n",
       "num_tf             int32\n",
       "id                 int32\n",
       "TF_alea            int32\n",
       "geometry          object\n",
       "dtype: object"
      ]
     },
     "execution_count": 20,
     "metadata": {},
     "output_type": "execute_result"
    }
   ],
   "source": [
    "aif_gdf.dtypes"
   ]
  },
  {
   "cell_type": "code",
   "execution_count": 22,
   "id": "3991e1a1",
   "metadata": {},
   "outputs": [
    {
     "name": "stderr",
     "output_type": "stream",
     "text": [
      "/tmp/ipykernel_43113/1645963596.py:2: UserWarning: Geometry column does not contain geometry.\n",
      "  aif_gdf['geometry'] = aif_gdf.geometry.apply(lambda x: x.wkt)\n",
      "/tmp/ipykernel_43113/1645963596.py:3: UserWarning: Geometry column does not contain geometry.\n",
      "  protected_areas_gdf['geometry'] = protected_areas_gdf.geometry.apply(lambda x: x.wkt)\n",
      "/tmp/ipykernel_43113/1645963596.py:4: UserWarning: Geometry column does not contain geometry.\n",
      "  dpl_gdf['geometry'] = dpl_gdf.geometry.apply(lambda x: x.wkt)\n",
      "/tmp/ipykernel_43113/1645963596.py:5: UserWarning: Geometry column does not contain geometry.\n",
      "  dpm_gdf['geometry'] = dpm_gdf.geometry.apply(lambda x: x.wkt)\n"
     ]
    }
   ],
   "source": [
    "# Convert geometry columns to WKT format\n",
    "aif_gdf['geometry'] = aif_gdf.geometry.apply(lambda x: x.wkt)\n",
    "protected_areas_gdf['geometry'] = protected_areas_gdf.geometry.apply(lambda x: x.wkt)\n",
    "dpl_gdf['geometry'] = dpl_gdf.geometry.apply(lambda x: x.wkt)\n",
    "dpm_gdf['geometry'] = dpm_gdf.geometry.apply(lambda x: x.wkt)"
   ]
  },
  {
   "cell_type": "code",
   "execution_count": 27,
   "id": "b9739a56",
   "metadata": {},
   "outputs": [
    {
     "data": {
      "text/plain": [
       "'MULTIPOLYGON Z (((427411.97205972346 706968.2487866977 0, 427438.2081776925 706953.9360158606 0, 427693.21754703496 706755.2240167098 0, 427761.34615327825 706726.2521089877 0, 427889.7813467869 706682.2241487561 0, 428013.5939971984 706611.7169883258 0, 428321.98494266125 706424.7245266624 0, 428542.8236077388 706303.8306389 0, 428534.30223892303 706289.5964175797 0, 428265.5239756735 706210.0600751976 0, 428137.42577865045 706125.4576668855 0, 427777.46378489234 705833.2542801095 0, 427407.93697559077 705486.9386652708 0, 427226.12126501265 705361.2438312164 0, 427115.68515337375 705353.2302302227 0, 427197.0530842149 705553.7062759666 0, 427135.3162580597 705649.1302506956 0, 427132.8147257386 705652.2844779007 0, 427119.71672573884 705683.7764779 0, 427108.3647257389 705752.0444779001 0, 427107.89072573883 705760.6084778999 0, 427120.8931710344 705819.1891339209 0, 427152.830725739 705898.8164778998 0, 427163.5671556657 705922.550066525 0, 427184.08044365025 705967.8960466785 0, 427193.2963793408 705988.2684822069 0, 427197.747725739 705998.1084778999 0, 427201.5527257039 706006.2864778228 0, 427214.3711924001 706034.5872718169 0, 427225.073725739 706058.2164779 0, 427228.65272573894 706066.2174779004 0, 427243.02772573894 706097.8614778998 0, 427258.612890842 706182.1463444114 0, 427259.2867257388 706192.0504779001 0, 427267.33772573853 706249.6394778956 0, 427276.0529171927 706344.4254550703 0, 427278.92972573894 706375.7134778999 0, 427284.57672573905 706410.8144778997 0, 427280.3517257392 706494.1614779 0, 427282.861893333 706503.9239532481 0, 427286.72372573894 706546.7824779002 0, 427286.07072573877 706554.7034779 0, 427296.9197257386 706631.3474778982 0, 427301.9209831309 706648.4509059202 0, 427302.85658018256 706651.6462686775 0, 427305.41142636153 706660.3495098487 0, 427309.5759532879 706674.5362278216 0, 427310.8597257391 706678.9094779001 0, 427311.33319065464 706679.904471811 0, 427330.1017257391 706741.8864779001 0, 427339.712537596 706774.4215655116 0, 427345.64702694234 706794.3102078923 0, 427350.793873128 706811.5591702214 0, 427355.94045360864 706828.8072420756 0, 427357.8257257389 706835.1254778999 0, 427359.6734670368 706839.6637432177 0, 427361.9957257381 706845.367477898 0, 427379.16095007467 706882.3097041071 0, 427389.98153852497 706909.9872911611 0, 427394.63849846344 706921.1660578538 0, 427399.68995585106 706934.5441286511 0, 427412.04772573884 706966.3844779002 0, 427411.97205972346 706968.2487866977 0)))'"
      ]
     },
     "execution_count": 27,
     "metadata": {},
     "output_type": "execute_result"
    }
   ],
   "source": [
    "aif_gdf.geometry[6]"
   ]
  },
  {
   "cell_type": "code",
   "execution_count": 10,
   "id": "bb83367b",
   "metadata": {},
   "outputs": [
    {
     "data": {
      "text/html": [
       "<div>\n",
       "<style scoped>\n",
       "    .dataframe tbody tr th:only-of-type {\n",
       "        vertical-align: middle;\n",
       "    }\n",
       "\n",
       "    .dataframe tbody tr th {\n",
       "        vertical-align: top;\n",
       "    }\n",
       "\n",
       "    .dataframe thead th {\n",
       "        text-align: right;\n",
       "    }\n",
       "</style>\n",
       "<table border=\"1\" class=\"dataframe\">\n",
       "  <thead>\n",
       "    <tr style=\"text-align: right;\">\n",
       "      <th></th>\n",
       "      <th>departement</th>\n",
       "      <th>commune</th>\n",
       "      <th>arrondissement</th>\n",
       "      <th>quartier</th>\n",
       "      <th>num_tf</th>\n",
       "      <th>id</th>\n",
       "      <th>TF_alea</th>\n",
       "      <th>geometry</th>\n",
       "    </tr>\n",
       "  </thead>\n",
       "  <tbody>\n",
       "    <tr>\n",
       "      <th>0</th>\n",
       "      <td>MONO</td>\n",
       "      <td>Grand-Popo</td>\n",
       "      <td>Grand-Popo</td>\n",
       "      <td>None</td>\n",
       "      <td>87</td>\n",
       "      <td>0</td>\n",
       "      <td>59</td>\n",
       "      <td>MULTIPOLYGON Z (((368066.73 694574.85 0, 36840...</td>\n",
       "    </tr>\n",
       "    <tr>\n",
       "      <th>1</th>\n",
       "      <td>BORGOU</td>\n",
       "      <td>NIKKI</td>\n",
       "      <td>NIKKI</td>\n",
       "      <td>GAH MARO</td>\n",
       "      <td>9</td>\n",
       "      <td>1</td>\n",
       "      <td>45</td>\n",
       "      <td>MULTIPOLYGON Z (((522252.74 1098383.35 0, 5222...</td>\n",
       "    </tr>\n",
       "    <tr>\n",
       "      <th>2</th>\n",
       "      <td>BORGOU</td>\n",
       "      <td>PARAKOU</td>\n",
       "      <td>2eme arrondissement</td>\n",
       "      <td>LADJIFARANI</td>\n",
       "      <td>837</td>\n",
       "      <td>2</td>\n",
       "      <td>44</td>\n",
       "      <td>MULTIPOLYGON Z (((460290.44 1035323 0, 460286....</td>\n",
       "    </tr>\n",
       "    <tr>\n",
       "      <th>3</th>\n",
       "      <td>\\nAtlantique</td>\n",
       "      <td>ABOMEY-CALAVI</td>\n",
       "      <td>ABOMEY-CALAVI</td>\n",
       "      <td>None</td>\n",
       "      <td>9720</td>\n",
       "      <td>3</td>\n",
       "      <td>53</td>\n",
       "      <td>MULTIPOLYGON Z (((426810.775 715417.543 0, 426...</td>\n",
       "    </tr>\n",
       "    <tr>\n",
       "      <th>4</th>\n",
       "      <td>OUEME</td>\n",
       "      <td>PORTO-NOVO</td>\n",
       "      <td>None</td>\n",
       "      <td>None</td>\n",
       "      <td>2559</td>\n",
       "      <td>4</td>\n",
       "      <td>13</td>\n",
       "      <td>MULTIPOLYGON Z (((456674.13 721614.58 0, 45672...</td>\n",
       "    </tr>\n",
       "  </tbody>\n",
       "</table>\n",
       "</div>"
      ],
      "text/plain": [
       "    departement        commune       arrondissement     quartier  num_tf  id  \\\n",
       "0          MONO     Grand-Popo           Grand-Popo         None      87   0   \n",
       "1        BORGOU          NIKKI                NIKKI     GAH MARO       9   1   \n",
       "2        BORGOU        PARAKOU  2eme arrondissement  LADJIFARANI     837   2   \n",
       "3  \\nAtlantique  ABOMEY-CALAVI        ABOMEY-CALAVI         None    9720   3   \n",
       "4         OUEME     PORTO-NOVO                 None         None    2559   4   \n",
       "\n",
       "   TF_alea                                           geometry  \n",
       "0       59  MULTIPOLYGON Z (((368066.73 694574.85 0, 36840...  \n",
       "1       45  MULTIPOLYGON Z (((522252.74 1098383.35 0, 5222...  \n",
       "2       44  MULTIPOLYGON Z (((460290.44 1035323 0, 460286....  \n",
       "3       53  MULTIPOLYGON Z (((426810.775 715417.543 0, 426...  \n",
       "4       13  MULTIPOLYGON Z (((456674.13 721614.58 0, 45672...  "
      ]
     },
     "execution_count": 10,
     "metadata": {},
     "output_type": "execute_result"
    }
   ],
   "source": [
    "aif_gdf.head()"
   ]
  },
  {
   "cell_type": "code",
   "execution_count": 11,
   "id": "85193af0",
   "metadata": {},
   "outputs": [
    {
     "data": {
      "text/plain": [
       "departement         object\n",
       "commune             object\n",
       "arrondissement      object\n",
       "quartier            object\n",
       "num_tf               int32\n",
       "id                   int32\n",
       "TF_alea              int32\n",
       "geometry          geometry\n",
       "dtype: object"
      ]
     },
     "execution_count": 11,
     "metadata": {},
     "output_type": "execute_result"
    }
   ],
   "source": [
    "aif_gdf.dtypes"
   ]
  },
  {
   "cell_type": "code",
   "execution_count": null,
   "id": "1a2de915",
   "metadata": {},
   "outputs": [],
   "source": []
  },
  {
   "cell_type": "code",
   "execution_count": null,
   "id": "94ded423",
   "metadata": {},
   "outputs": [],
   "source": []
  }
 ],
 "metadata": {
  "kernelspec": {
   "display_name": "foncier_intelligent",
   "language": "python",
   "name": "python3"
  },
  "language_info": {
   "codemirror_mode": {
    "name": "ipython",
    "version": 3
   },
   "file_extension": ".py",
   "mimetype": "text/x-python",
   "name": "python",
   "nbconvert_exporter": "python",
   "pygments_lexer": "ipython3",
   "version": "3.12.3"
  }
 },
 "nbformat": 4,
 "nbformat_minor": 5
}
